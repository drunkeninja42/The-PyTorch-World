{
  "cells": [
    {
      "cell_type": "code",
      "source": [
        "import torch\n",
        "from torch import nn"
      ],
      "metadata": {
        "id": "ZdEOp_4QWllI"
      },
      "execution_count": 1,
      "outputs": []
    },
    {
      "cell_type": "code",
      "source": [
        "class NeuralNetwork(nn.Module):\n",
        "  def __init__(self):\n",
        "    super(NeuralNetwork, self).__init__()\n",
        "    self.flatten = nn.Flatten()\n",
        "    self.linear_seq_stack = nn.Sequential(\n",
        "        nn.Linear(5,3),\n",
        "        nn.ReLU(),\n",
        "        nn.Linear(3,4),\n",
        "    )\n",
        "\n",
        "  def forward(self,x):\n",
        "    x = self.flatten(x)\n",
        "    logits = self.linear_seq_stack(x)\n",
        "    return logits"
      ],
      "metadata": {
        "id": "1Mb3lD17Wlnd"
      },
      "execution_count": 11,
      "outputs": []
    },
    {
      "cell_type": "code",
      "source": [
        "model = NeuralNetwork()\n",
        "print(model)"
      ],
      "metadata": {
        "id": "_YH81eSWWlo8",
        "outputId": "af25c0aa-1f0b-491c-d9fd-84cab88baaff",
        "colab": {
          "base_uri": "https://localhost:8080/"
        }
      },
      "execution_count": 12,
      "outputs": [
        {
          "output_type": "stream",
          "name": "stdout",
          "text": [
            "NeuralNetwork(\n",
            "  (flatten): Flatten(start_dim=1, end_dim=-1)\n",
            "  (linear_seq_stack): Sequential(\n",
            "    (0): Linear(in_features=5, out_features=3, bias=True)\n",
            "    (1): ReLU()\n",
            "    (2): Linear(in_features=3, out_features=4, bias=True)\n",
            "  )\n",
            ")\n"
          ]
        }
      ]
    },
    {
      "cell_type": "code",
      "source": [
        "data = torch.rand(1,5)\n",
        "data"
      ],
      "metadata": {
        "id": "Tn2-Y30QXuUL",
        "outputId": "01dbbe74-596d-4ccf-c19d-ee3bfcef1e00",
        "colab": {
          "base_uri": "https://localhost:8080/"
        }
      },
      "execution_count": 13,
      "outputs": [
        {
          "output_type": "execute_result",
          "data": {
            "text/plain": [
              "tensor([[0.5506, 0.8568, 0.9278, 0.4081, 0.3274]])"
            ]
          },
          "metadata": {},
          "execution_count": 13
        }
      ]
    },
    {
      "cell_type": "code",
      "source": [
        "logits = model(data)\n",
        "logits"
      ],
      "metadata": {
        "id": "vlddjBDgX_6Q",
        "outputId": "d16479e5-4fb4-4e47-e6f0-91c63f61fe38",
        "colab": {
          "base_uri": "https://localhost:8080/"
        }
      },
      "execution_count": 14,
      "outputs": [
        {
          "output_type": "execute_result",
          "data": {
            "text/plain": [
              "tensor([[ 0.3301,  0.1453, -0.4958, -0.2990]], grad_fn=<AddmmBackward0>)"
            ]
          },
          "metadata": {},
          "execution_count": 14
        }
      ]
    },
    {
      "cell_type": "code",
      "source": [
        "pred_prob = nn.Softmax(dim = 1)(logits)\n",
        "type(pred_prob)\n",
        "print(pred_prob)"
      ],
      "metadata": {
        "id": "K9lDvn6lYIDI",
        "outputId": "73c18928-e427-4a9d-ae80-8392466714e7",
        "colab": {
          "base_uri": "https://localhost:8080/"
        }
      },
      "execution_count": 26,
      "outputs": [
        {
          "output_type": "stream",
          "name": "stdout",
          "text": [
            "tensor([[0.3569, 0.2966, 0.1563, 0.1902]], grad_fn=<SoftmaxBackward0>)\n"
          ]
        }
      ]
    },
    {
      "cell_type": "code",
      "source": [
        "prediction = pred_prob.argmax()\n",
        "print(prediction)"
      ],
      "metadata": {
        "id": "WctPqq_kYZ-U",
        "outputId": "dbd07e7c-1520-46c8-8de0-df665f129dbc",
        "colab": {
          "base_uri": "https://localhost:8080/"
        }
      },
      "execution_count": 25,
      "outputs": [
        {
          "output_type": "stream",
          "name": "stdout",
          "text": [
            "tensor(0)\n"
          ]
        }
      ]
    },
    {
      "cell_type": "code",
      "source": [],
      "metadata": {
        "id": "5docowwNYmHr"
      },
      "execution_count": null,
      "outputs": []
    }
  ],
  "metadata": {
    "colab": {
      "name": "Welcome To Colaboratory",
      "toc_visible": true,
      "provenance": []
    },
    "kernelspec": {
      "display_name": "Python 3",
      "name": "python3"
    }
  },
  "nbformat": 4,
  "nbformat_minor": 0
}